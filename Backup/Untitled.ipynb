{
 "cells": [
  {
   "cell_type": "code",
   "execution_count": 2,
   "id": "7a3e1dc0-1582-40c5-8c32-d7514ffbd14a",
   "metadata": {},
   "outputs": [],
   "source": [
    "import pandas as pd\n",
    "import os"
   ]
  },
  {
   "cell_type": "code",
   "execution_count": 31,
   "id": "dc060c35-3117-48da-9cd4-bcf48f49bf67",
   "metadata": {},
   "outputs": [
    {
     "name": "stdout",
     "output_type": "stream",
     "text": [
      "extrating data for bigviktor.csv \n",
      "extrating data for cryptolocker.csv \n",
      "extrating data for dyre.csv \n",
      "extrating data for emotet.csv \n",
      "extrating data for flubot.csv \n",
      "extrating data for gameover.csv \n",
      "extrating data for gozy.csv \n",
      "extrating data for mastnu.csv \n",
      "extrating data for murofet.csv \n",
      "extrating data for necurs.csv \n",
      "extrating data for Nimaim.csv \n",
      "extrating data for pizd.csv \n",
      "extrating data for ramnit.csv \n",
      "extrating data for ranbyus.csv \n",
      "extrating data for rovnix.csv \n",
      "extrating data for shiotob.csv \n",
      "extrating data for suppobox.csv \n",
      "extrating data for tinba.csv \n"
     ]
    }
   ],
   "source": [
    "path= r\"C:\\Users\\Tranl\\PycharmProjects\\Detect_DGAbotnet\\Backup\\Raw_data\"\n",
    "TEST=pd.DataFrame()\n",
    "for filename in os.listdir(path):\n",
    "    if(filename.endswith('.csv')   ):\n",
    "        print('extrating data for {} '.format(filename))\n",
    "\n",
    "\n",
    "      \n",
    "        df=pd.read_csv(os.path.join(path,filename),header=None).tail(5000)\n",
    "        if(len(df.columns)>=2):            \n",
    "            try:\n",
    "                df=df.drop(columns=[0],axis=1)\n",
    "            except:\n",
    "                pass\n",
    "        \n",
    "        df.columns = ['Domain']\n",
    "        df['label']=1\n",
    "        df['type']=filename.replace('.csv','')\n",
    "        TEST=pd.concat([TEST,df])\n",
    "TEST.to_csv('TEST_1.csv',index=False)"
   ]
  },
  {
   "cell_type": "code",
   "execution_count": 38,
   "id": "396c9c15-fef6-4f83-bed1-9ae6974787fc",
   "metadata": {},
   "outputs": [
    {
     "name": "stdout",
     "output_type": "stream",
     "text": [
      "bigviktor\n",
      "cryptolocker\n",
      "dyre\n",
      "emotet\n",
      "flubot\n",
      "gameover\n",
      "gozy\n",
      "mastnu\n",
      "murofet\n",
      "necurs\n",
      "Nimaim\n",
      "pizd\n",
      "ramnit\n",
      "ranbyus\n",
      "rovnix\n",
      "shiotob\n",
      "suppobox\n",
      "tinba\n"
     ]
    }
   ],
   "source": [
    "for i in TEST['type'].unique():\n",
    "    print(i)"
   ]
  },
  {
   "cell_type": "code",
   "execution_count": 40,
   "id": "055e8170-fcc8-4bd0-aa24-ca4fea44ee77",
   "metadata": {},
   "outputs": [
    {
     "data": {
      "text/plain": [
       "shiotob         5000\n",
       "emotet          5000\n",
       "gozy            5000\n",
       "pizd            5000\n",
       "tinba           5000\n",
       "necurs          5000\n",
       "suppobox        5000\n",
       "rovnix          5000\n",
       "ranbyus         5000\n",
       "Nimaim          5000\n",
       "gameover        5000\n",
       "mastnu          5000\n",
       "flubot          5000\n",
       "murofet         5000\n",
       "ramnit          5000\n",
       "bigviktor       1001\n",
       "cryptolocker     999\n",
       "dyre             999\n",
       "Name: type, dtype: int64"
      ]
     },
     "execution_count": 40,
     "metadata": {},
     "output_type": "execute_result"
    }
   ],
   "source": [
    "TEST['type'].value_counts()"
   ]
  },
  {
   "cell_type": "code",
   "execution_count": null,
   "id": "77f94e30-ff83-4baa-8d34-1e5a9d66b144",
   "metadata": {},
   "outputs": [],
   "source": []
  }
 ],
 "metadata": {
  "kernelspec": {
   "display_name": "Python 3",
   "language": "python",
   "name": "python3"
  },
  "language_info": {
   "codemirror_mode": {
    "name": "ipython",
    "version": 3
   },
   "file_extension": ".py",
   "mimetype": "text/x-python",
   "name": "python",
   "nbconvert_exporter": "python",
   "pygments_lexer": "ipython3",
   "version": "3.8.8"
  }
 },
 "nbformat": 4,
 "nbformat_minor": 5
}
